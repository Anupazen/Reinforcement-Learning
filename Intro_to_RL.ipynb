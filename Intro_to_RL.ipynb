{
  "nbformat": 4,
  "nbformat_minor": 0,
  "metadata": {
    "colab": {
      "provenance": []
    },
    "kernelspec": {
      "name": "python3",
      "display_name": "Python 3"
    },
    "language_info": {
      "name": "python"
    }
  },
  "cells": [
    {
      "cell_type": "code",
      "execution_count": 6,
      "metadata": {
        "id": "9Pxx42bJGX1I"
      },
      "outputs": [],
      "source": [
        "import numpy as np\n",
        "import pandas as pd\n",
        "import seaborn as sns"
      ]
    },
    {
      "cell_type": "code",
      "source": [
        "# Initialize thevariables\n",
        "cols = 4\n",
        "rows = 3\n",
        "\n",
        "gamma = 0.9\n",
        "\n",
        "R = [[-0.04,-0.04,-0.04,1],\n",
        "     [-0.04,-0.04,-0.04,-1],\n",
        "     [-0.04,-0.04,-0.04,-0.04]]\n",
        "\n",
        "U = [[0,0,0,1],\n",
        "     [0,0,0,-1],\n",
        "     [0,0,0,0],\n",
        "     [0,0,0,0]]\n",
        "\n",
        "p_intended = 0.8\n",
        "p_slip = 0.1\n",
        "\n",
        "actions = {\n",
        "    'up':    (0, -1),\n",
        "    'down':  (0, 1),\n",
        "    'left':  (-1, 0),\n",
        "    'right': (1, 0)\n",
        "}"
      ],
      "metadata": {
        "id": "wQFQoaziiG_8"
      },
      "execution_count": 7,
      "outputs": []
    },
    {
      "cell_type": "code",
      "source": [
        "U = [[0.0 for x in range(cols)] for y in range(rows)]"
      ],
      "metadata": {
        "id": "M-KdmuCwjoGu"
      },
      "execution_count": 8,
      "outputs": []
    },
    {
      "cell_type": "code",
      "source": [
        "# Initialize the Terminal States\n",
        "U[1][3] = -1\n",
        "U[0][3] = 1"
      ],
      "metadata": {
        "id": "BMhRIWHRjreM"
      },
      "execution_count": 9,
      "outputs": []
    },
    {
      "cell_type": "code",
      "source": [
        "def in_grid(x,y):\n",
        "  return 0<x<cols and 0<y<rows"
      ],
      "metadata": {
        "id": "jfLOds9P5et3"
      },
      "execution_count": 10,
      "outputs": []
    },
    {
      "cell_type": "code",
      "source": [
        "def get_next_state(x,y,action):\n",
        "  dx,dy = actions[action]\n",
        "\n",
        "  ix,iy = dx+x, dy+y\n",
        "\n",
        "  if not in_grid(ix,iy):\n",
        "    ix,iy = x,y\n",
        "\n",
        "  if action in ['up', 'down']:\n",
        "    perp_actions = ['left', 'right']\n",
        "  else:\n",
        "    perp_actions = ['up', 'down']\n",
        "\n",
        "  perp_states = []\n",
        "  for perp_action in perp_actions:\n",
        "    pdx, pdy = actions[perp_action]\n",
        "    px, py = x + pdx, y + pdy\n",
        "    if not in_grid(px, py):\n",
        "        px, py = x, y\n",
        "    perp_states.append((px, py))\n",
        "\n",
        "  return [\n",
        "        (p_intended, ix, iy),\n",
        "        (p_slip, perp_states[0][0], perp_states[0][1]),\n",
        "        (p_slip, perp_states[1][0], perp_states[1][1])\n",
        "    ]\n",
        "\n",
        "terminal_states = [(3, 0), (3, 1)]"
      ],
      "metadata": {
        "id": "HNgsu-aL995o"
      },
      "execution_count": 11,
      "outputs": []
    },
    {
      "cell_type": "code",
      "source": [],
      "metadata": {
        "id": "LbJulH2X-9LD"
      },
      "execution_count": null,
      "outputs": []
    }
  ]
}
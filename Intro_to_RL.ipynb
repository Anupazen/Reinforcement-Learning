{
  "nbformat": 4,
  "nbformat_minor": 0,
  "metadata": {
    "colab": {
      "provenance": []
    },
    "kernelspec": {
      "name": "python3",
      "display_name": "Python 3"
    },
    "language_info": {
      "name": "python"
    }
  },
  "cells": [
    {
      "cell_type": "code",
      "execution_count": 1,
      "metadata": {
        "id": "9Pxx42bJGX1I"
      },
      "outputs": [],
      "source": [
        "import numpy as np\n",
        "import pandas as pd\n",
        "import seaborn as sns"
      ]
    },
    {
      "cell_type": "code",
      "source": [
        "Actions = [\"𝑢𝑝\", \"𝑑𝑜𝑤𝑛\", \"𝑙𝑒𝑓𝑡\", \"𝑟𝑖𝑔ℎ𝑡\"]\n"
      ],
      "metadata": {
        "id": "x3nbWxZoMR6w"
      },
      "execution_count": null,
      "outputs": []
    }
  ]
}
{
  "nbformat": 4,
  "nbformat_minor": 0,
  "metadata": {
    "colab": {
      "provenance": []
    },
    "kernelspec": {
      "name": "python3",
      "display_name": "Python 3"
    },
    "language_info": {
      "name": "python"
    }
  },
  "cells": [
    {
      "cell_type": "code",
      "execution_count": 123,
      "metadata": {
        "id": "9Pxx42bJGX1I"
      },
      "outputs": [],
      "source": [
        "import numpy as np\n",
        "import pandas as pd\n",
        "import seaborn as sns\n",
        "import random"
      ]
    },
    {
      "cell_type": "markdown",
      "source": [
        "# Value Iteration"
      ],
      "metadata": {
        "id": "viY_pcXRabfN"
      }
    },
    {
      "cell_type": "code",
      "source": [
        "# Initialize thevariables\n",
        "cols = 4\n",
        "rows = 3\n",
        "\n",
        "gamma = 0.9\n",
        "epsilon = 0.001\n",
        "\n",
        "p_intended = 0.8\n",
        "p_slip = 0.1\n",
        "\n",
        "actions = {\n",
        "    'up':    (0, -1),\n",
        "    'down':  (0, 1),\n",
        "    'left':  (-1, 0),\n",
        "    'right': (1, 0)\n",
        "}\n",
        "\n",
        "walls = [(1,1)]"
      ],
      "metadata": {
        "id": "wQFQoaziiG_8"
      },
      "execution_count": 124,
      "outputs": []
    },
    {
      "cell_type": "code",
      "source": [
        "U = [[0.0 for x in range(cols)] for y in range(rows)]"
      ],
      "metadata": {
        "id": "M-KdmuCwjoGu"
      },
      "execution_count": 125,
      "outputs": []
    },
    {
      "cell_type": "code",
      "source": [
        "R = [[-0.04 for x in range(cols)] for y in range(rows)]"
      ],
      "metadata": {
        "id": "si01neLYvEpT"
      },
      "execution_count": 126,
      "outputs": []
    },
    {
      "cell_type": "code",
      "source": [
        "# Initialize the Terminal State utilities\n",
        "U[1][3] = -1\n",
        "U[0][3] = 1\n",
        "\n",
        "R[1][3] = -1\n",
        "R[0][3] = 1\n",
        "R[1][1] = 0"
      ],
      "metadata": {
        "id": "BMhRIWHRjreM"
      },
      "execution_count": 127,
      "outputs": []
    },
    {
      "cell_type": "code",
      "source": [
        "def in_grid(x, y):\n",
        "    return 0 <= x < cols and 0 <= y < rows and (x, y) not in walls"
      ],
      "metadata": {
        "id": "jfLOds9P5et3"
      },
      "execution_count": 128,
      "outputs": []
    },
    {
      "cell_type": "code",
      "source": [
        "def get_next_states(x,y,action):\n",
        "  perp_action = []\n",
        "  dx,dy = actions[action]\n",
        "\n",
        "  ix,iy = dx+x, dy+y\n",
        "\n",
        "  if not in_grid(ix,iy):\n",
        "    ix,iy = x,y\n",
        "\n",
        "  if action in ['up', 'down']:\n",
        "    perp_actions = ['left', 'right']\n",
        "  else:\n",
        "    perp_actions = ['up', 'down']\n",
        "\n",
        "  perp_states = []\n",
        "  for perp_action in perp_actions:\n",
        "    pdx, pdy = actions[perp_action]\n",
        "    px, py = x + pdx, y + pdy\n",
        "    if not in_grid(px, py):\n",
        "        px, py = x, y\n",
        "    perp_states.append((px, py))\n",
        "\n",
        "  return [\n",
        "        (p_intended, ix, iy),\n",
        "        (p_slip, perp_states[0][0], perp_states[0][1]),\n",
        "        (p_slip, perp_states[1][0], perp_states[1][1])\n",
        "    ]"
      ],
      "metadata": {
        "id": "HNgsu-aL995o"
      },
      "execution_count": 129,
      "outputs": []
    },
    {
      "cell_type": "code",
      "source": [
        "#Initialize Terminal States\n",
        "\n",
        "terminal_states = [(3, 0), (3, 1)]"
      ],
      "metadata": {
        "id": "LbJulH2X-9LD"
      },
      "execution_count": 130,
      "outputs": []
    },
    {
      "cell_type": "code",
      "source": [
        "iteration = 0\n",
        "start_state = (0, 0)\n",
        "x, y = start_state\n",
        "while True:\n",
        "    iteration += 1\n",
        "    delta = 0\n",
        "    U_new = [[0 for _ in range(cols)] for _ in range(rows)]\n",
        "\n",
        "    for y in range(rows):\n",
        "        for x in range(cols):\n",
        "            if (x, y) in terminal_states or (x, y) in walls:\n",
        "                U_new[y][x] = R[y][x]\n",
        "                continue\n",
        "\n",
        "            max_utility = float('-inf')\n",
        "            for action in actions:\n",
        "                expected_utility = 0\n",
        "                for (prob, nx, ny) in get_next_states(x, y, action):\n",
        "                    expected_utility += prob * U[ny][nx]\n",
        "                max_utility = max(max_utility, expected_utility)\n",
        "\n",
        "            U_new[y][x] = R[y][x] + gamma * max_utility\n",
        "            delta = max(delta, abs(U_new[y][x] - U[y][x]))\n",
        "\n",
        "    U = U_new\n",
        "\n",
        "    print(f\"Iteration {iteration}:\")\n",
        "    for row in U:\n",
        "        print([\"{0:.3f}\".format(v) for v in row])\n",
        "    print()\n",
        "\n",
        "    if delta < epsilon * (1 - gamma) / gamma:\n",
        "        break\n",
        "\n",
        "print(\"Converged after\", iteration, \"iterations.\")"
      ],
      "metadata": {
        "id": "Q4DyG8zvaW7z",
        "outputId": "007dc741-9c52-4f94-eaa3-23b0acab46f6",
        "colab": {
          "base_uri": "https://localhost:8080/"
        }
      },
      "execution_count": 131,
      "outputs": [
        {
          "output_type": "stream",
          "name": "stdout",
          "text": [
            "Iteration 1:\n",
            "['-0.040', '-0.040', '0.680', '1.000']\n",
            "['-0.040', '0.000', '-0.040', '-1.000']\n",
            "['-0.040', '-0.040', '-0.040', '-0.040']\n",
            "\n",
            "Iteration 2:\n",
            "['-0.076', '0.442', '0.738', '1.000']\n",
            "['-0.076', '0.000', '0.356', '-1.000']\n",
            "['-0.076', '-0.076', '-0.076', '-0.076']\n",
            "\n",
            "Iteration 3:\n",
            "['0.265', '0.571', '0.778', '1.000']\n",
            "['-0.108', '0.000', '0.433', '-1.000']\n",
            "['-0.108', '-0.108', '0.203', '-0.108']\n",
            "\n",
            "Iteration 4:\n",
            "['0.385', '0.623', '0.789', '1.000']\n",
            "['0.131', '0.000', '0.469', '-1.000']\n",
            "['-0.138', '0.086', '0.252', '0.006']\n",
            "\n",
            "Iteration 5:\n",
            "['0.455', '0.640', '0.793', '1.000']\n",
            "['0.261', '0.000', '0.480', '-1.000']\n",
            "['0.050', '0.157', '0.306', '0.052']\n",
            "\n",
            "Iteration 6:\n",
            "['0.485', '0.646', '0.795', '1.000']\n",
            "['0.335', '0.000', '0.484', '-1.000']\n",
            "['0.166', '0.209', '0.325', '0.095']\n",
            "\n",
            "Iteration 7:\n",
            "['0.499', '0.648', '0.795', '1.000']\n",
            "['0.370', '0.000', '0.486', '-1.000']\n",
            "['0.235', '0.231', '0.336', '0.112']\n",
            "\n",
            "Iteration 8:\n",
            "['0.505', '0.649', '0.795', '1.000']\n",
            "['0.386', '0.000', '0.486', '-1.000']\n",
            "['0.268', '0.244', '0.341', '0.122']\n",
            "\n",
            "Iteration 9:\n",
            "['0.508', '0.649', '0.795', '1.000']\n",
            "['0.393', '0.000', '0.486', '-1.000']\n",
            "['0.284', '0.249', '0.343', '0.126']\n",
            "\n",
            "Iteration 10:\n",
            "['0.509', '0.650', '0.795', '1.000']\n",
            "['0.396', '0.000', '0.486', '-1.000']\n",
            "['0.291', '0.252', '0.344', '0.128']\n",
            "\n",
            "Iteration 11:\n",
            "['0.509', '0.650', '0.795', '1.000']\n",
            "['0.398', '0.000', '0.486', '-1.000']\n",
            "['0.294', '0.253', '0.344', '0.129']\n",
            "\n",
            "Iteration 12:\n",
            "['0.509', '0.650', '0.795', '1.000']\n",
            "['0.398', '0.000', '0.486', '-1.000']\n",
            "['0.295', '0.254', '0.345', '0.130']\n",
            "\n",
            "Iteration 13:\n",
            "['0.509', '0.650', '0.795', '1.000']\n",
            "['0.398', '0.000', '0.486', '-1.000']\n",
            "['0.296', '0.254', '0.345', '0.130']\n",
            "\n",
            "Iteration 14:\n",
            "['0.509', '0.650', '0.795', '1.000']\n",
            "['0.398', '0.000', '0.486', '-1.000']\n",
            "['0.296', '0.254', '0.345', '0.130']\n",
            "\n",
            "Iteration 15:\n",
            "['0.509', '0.650', '0.795', '1.000']\n",
            "['0.398', '0.000', '0.486', '-1.000']\n",
            "['0.296', '0.254', '0.345', '0.130']\n",
            "\n",
            "Converged after 15 iterations.\n"
          ]
        }
      ]
    },
    {
      "cell_type": "code",
      "source": [
        "policy = [['' for _ in range(cols)] for _ in range(rows)]\n",
        "\n",
        "for y in range(rows):\n",
        "    for x in range(cols):\n",
        "        if (x, y) in terminal_states:\n",
        "            policy[y][x] = 'T'\n",
        "            continue\n",
        "\n",
        "        best_action = None\n",
        "        best_value = float('-inf')\n",
        "        for action in actions:\n",
        "            expected_utility = 0\n",
        "            for (prob, nx, ny) in get_next_states(x, y, action):\n",
        "                expected_utility += prob * U[ny][nx]\n",
        "            if expected_utility > best_value:\n",
        "                best_value = expected_utility\n",
        "                best_action = action\n",
        "\n",
        "        arrows = {'up': '↑', 'down': '↓', 'left': '←', 'right': '→'}\n",
        "        policy[y][x] = arrows[best_action]\n",
        "\n",
        "# Print policy\n",
        "for row in policy:\n",
        "    print(row)\n"
      ],
      "metadata": {
        "id": "Z0s0Cx2Na7Ie",
        "colab": {
          "base_uri": "https://localhost:8080/"
        },
        "outputId": "661b4616-e595-4b8a-a602-5999dfeaed5d"
      },
      "execution_count": 132,
      "outputs": [
        {
          "output_type": "stream",
          "name": "stdout",
          "text": [
            "['→', '→', '→', 'T']\n",
            "['↑', '↑', '↑', 'T']\n",
            "['↑', '→', '↑', '←']\n"
          ]
        }
      ]
    },
    {
      "cell_type": "code",
      "source": [
        "def NextState(s,a):\n",
        "\n",
        "  new_state = []\n",
        "  if a in ['up', 'down']:\n",
        "    perp_actions = ['left', 'right']\n",
        "  else:\n",
        "    perp_actions = ['up', 'down']\n",
        "\n",
        "  r = random.random()\n",
        "  r_direction = random.random()\n",
        "\n",
        "  if r<p_intended:\n",
        "    dx,dy = actions[a]\n",
        "    px, py = s[1] + dx, s[0] + dy\n",
        "\n",
        "    if not in_grid(px, py):\n",
        "      px, py = s[1] , s[0]\n",
        "\n",
        "  else:\n",
        "    if r_direction<0.5:\n",
        "      dx,dy = actions[perp_actions[0]]\n",
        "      px, py = s[1] + dx, s[0] + dy\n",
        "\n",
        "      if not in_grid(px, py):\n",
        "        px, py = s[1] , s[0]\n",
        "\n",
        "    else:\n",
        "      dx,dy = actions[perp_actions[1]]\n",
        "      px, py = s[1] + dx, s[0] + dy\n",
        "\n",
        "      if not in_grid(px, py):\n",
        "        px, py = s[1] , s[0]\n",
        "\n",
        "  return [py,px]"
      ],
      "metadata": {
        "id": "GR8Qk8yfqhHO"
      },
      "execution_count": 133,
      "outputs": []
    },
    {
      "cell_type": "code",
      "source": [
        "s=[[2,0],[2,0],[1,2],[1,2],[0,2]]\n",
        "a=['right','up','down','left','left']\n",
        "results = []\n",
        "state_action_pairs = list(zip(s, a))\n",
        "\n",
        "for j in range(0,100,1):\n",
        "  for state, action in state_action_pairs:\n",
        "    res = NextState(state,action)\n",
        "    results.append({\n",
        "        \"State\": state,\n",
        "        \"Action\": action,\n",
        "        \"Result\": res\n",
        "    })\n"
      ],
      "metadata": {
        "id": "WqTrKlekqjHr"
      },
      "execution_count": 134,
      "outputs": []
    },
    {
      "cell_type": "code",
      "source": [
        "from collections import defaultdict, Counter\n",
        "counter = Counter()\n",
        "\n",
        "# Nested dictionary: (State, Action) -> Counter of Results\n",
        "counts = defaultdict(Counter)\n",
        "\n",
        "for record in results:\n",
        "    sa_key = (tuple(record['State']), record['Action'])\n",
        "    result_key = tuple(record['Result'])\n",
        "    counts[sa_key][result_key] += 1\n",
        "\n",
        "# Display results\n",
        "for sa, result_counter in counts.items():\n",
        "    print(f\"State: {sa[0]}, Action: {sa[1]}\")\n",
        "    for result, count in result_counter.items():\n",
        "        print(f\"  Result: {result} -> Count: {count}\")"
      ],
      "metadata": {
        "id": "KVlPZNootTjo",
        "colab": {
          "base_uri": "https://localhost:8080/"
        },
        "outputId": "dc8c24b0-a162-4df9-8ef1-e4d66c68823c"
      },
      "execution_count": 135,
      "outputs": [
        {
          "output_type": "stream",
          "name": "stdout",
          "text": [
            "State: (2, 0), Action: right\n",
            "  Result: (2, 1) -> Count: 84\n",
            "  Result: (1, 0) -> Count: 9\n",
            "  Result: (2, 0) -> Count: 7\n",
            "State: (2, 0), Action: up\n",
            "  Result: (1, 0) -> Count: 85\n",
            "  Result: (2, 0) -> Count: 9\n",
            "  Result: (2, 1) -> Count: 6\n",
            "State: (1, 2), Action: down\n",
            "  Result: (1, 3) -> Count: 11\n",
            "  Result: (2, 2) -> Count: 79\n",
            "  Result: (1, 2) -> Count: 10\n",
            "State: (1, 2), Action: left\n",
            "  Result: (2, 2) -> Count: 9\n",
            "  Result: (1, 2) -> Count: 78\n",
            "  Result: (0, 2) -> Count: 13\n",
            "State: (0, 2), Action: left\n",
            "  Result: (0, 1) -> Count: 77\n",
            "  Result: (0, 2) -> Count: 16\n",
            "  Result: (1, 2) -> Count: 7\n"
          ]
        }
      ]
    },
    {
      "cell_type": "code",
      "source": [
        "from collections import defaultdict, Counter\n",
        "import random\n",
        "\n",
        "transition_counts = defaultdict(Counter)\n",
        "\n",
        "num_trials = 5000\n",
        "start_state = (0,2)\n",
        "\n",
        "for _ in range(num_trials):\n",
        "    state = start_state\n",
        "    while state not in terminal_states:\n",
        "        action = None\n",
        "        best_val = float('-inf')\n",
        "        for a in actions:\n",
        "            exp_util = 0\n",
        "            for (prob, nx, ny) in get_next_states(state[0], state[1], a):\n",
        "                exp_util += prob * U[ny][nx]\n",
        "            if exp_util > best_val:\n",
        "                best_val = exp_util\n",
        "                action = a\n",
        "\n",
        "        next_state = tuple(NextState([state[1], state[0]], action))\n",
        "        next_state = (next_state[1], next_state[0])\n",
        "\n",
        "        transition_counts[(state, action)][next_state] += 1\n",
        "\n",
        "        state = next_state\n",
        "\n",
        "transition_probs = {}\n",
        "for sa, counter in transition_counts.items():\n",
        "    total = sum(counter.values())\n",
        "    transition_probs[sa] = {s_next: count/total for s_next, count in counter.items()}\n",
        "\n",
        "print(\"P((2,1) | (1,1), Up) =\", transition_probs.get(((0,2),'up'), {}).get((0,1), 0))\n",
        "print(\"P((1,3) | (1,2), Up) =\", transition_probs.get(((0,1),'up'), {}).get((0,0), 0))\n",
        "print(\"P((2,3) | (1,3), Right) =\", transition_probs.get(((0,0),'right'), {}).get((1,0), 0))\n",
        "print(\"P((3,3) | (2,3), Up) =\", transition_probs.get(((1,0),'up'), {}).get((2,0), 0))\n",
        "print(\"P((2,1) | (3,2), Right) =\", transition_probs.get(((2,1),'right'), {}).get((1,2), 0))\n"
      ],
      "metadata": {
        "id": "abC8uU1o7JpH",
        "colab": {
          "base_uri": "https://localhost:8080/"
        },
        "outputId": "339f1072-a699-4321-eb4a-5ceb14a33fa9"
      },
      "execution_count": 136,
      "outputs": [
        {
          "output_type": "stream",
          "name": "stdout",
          "text": [
            "P((2,1) | (1,1), Up) = 0.8020833333333334\n",
            "P((1,3) | (1,2), Up) = 0.8007004138809296\n",
            "P((2,3) | (1,3), Right) = 0.799928353931578\n",
            "P((3,3) | (2,3), Up) = 0\n",
            "P((2,1) | (3,2), Right) = 0\n"
          ]
        }
      ]
    },
    {
      "cell_type": "code",
      "source": [
        "# -------------------------------\n",
        "# ADP with GLIE Utility Estimation\n",
        "# -------------------------------\n",
        "\n",
        "# f(u,n) = 2 if n <= 5, else u\n",
        "def f(u, n):\n",
        "    return 2 if n <= 5 else u\n",
        "\n",
        "# Initialize utilities for all states\n",
        "U_glie = {(x,y): 0.0 for y in range(rows) for x in range(cols) if (x,y) not in walls}\n",
        "\n",
        "converged = False\n",
        "while not converged:\n",
        "    delta = 0\n",
        "    U_new = {}\n",
        "    for (x,y) in U_glie:\n",
        "        # Terminal states take immediate reward\n",
        "        if (x,y) in terminal_states:\n",
        "            U_new[(x,y)] = R[y][x]\n",
        "            continue\n",
        "\n",
        "        best_val = float('-inf')\n",
        "        for a in actions:\n",
        "            sa = ((x,y), a)\n",
        "            if sa not in transition_probs:\n",
        "                continue\n",
        "            exp_util = sum(prob * U_glie[s_next] for s_next, prob in transition_probs[sa].items())\n",
        "            n_sa = sum(transition_counts[sa].values())  # N(s,a)\n",
        "            best_val = max(best_val, f(exp_util, n_sa))\n",
        "\n",
        "        U_new[(x,y)] = R[y][x] + gamma * best_val\n",
        "        delta = max(delta, abs(U_new[(x,y)] - U_glie[(x,y)]))\n",
        "    U_glie = U_new\n",
        "\n",
        "    if delta < epsilon:\n",
        "        converged = True\n",
        "\n",
        "# Print final utility table in Table 4 format\n",
        "print(\"\\nTable 4: Estimated Utilities (GLIE ADP)\")\n",
        "for y in reversed(range(rows)):  # print top row first\n",
        "    row = []\n",
        "    for x in range(cols):\n",
        "        if (x,y) in walls:\n",
        "            row.append(\"WALL\")\n",
        "        elif (x,y) in terminal_states:\n",
        "            row.append(f\"{R[y][x]:.2f}\")\n",
        "        else:\n",
        "            row.append(f\"{U_glie[(x,y)]:.3f}\")\n",
        "    print(row)\n"
      ],
      "metadata": {
        "colab": {
          "base_uri": "https://localhost:8080/"
        },
        "id": "PSAdREZDKcjF",
        "outputId": "b46c3979-616f-415d-e381-fc1d9869b533"
      },
      "execution_count": 137,
      "outputs": [
        {
          "output_type": "stream",
          "name": "stdout",
          "text": [
            "\n",
            "Table 4: Estimated Utilities (GLIE ADP)\n",
            "['0.295', '0.258', '0.350', '0.201']\n",
            "['0.397', 'WALL', '0.491', '-1.00']\n",
            "['0.507', '0.647', '0.795', '1.00']\n"
          ]
        }
      ]
    },
    {
      "cell_type": "code",
      "source": [
        "# -------------------------------------------------\n",
        "# Compute Optimal Policy π* from Learned Utilities\n",
        "# -------------------------------------------------\n",
        "policy_opt = [['' for _ in range(cols)] for _ in range(rows)]\n",
        "\n",
        "for y in range(rows):\n",
        "    for x in range(cols):\n",
        "        if (x, y) in terminal_states:\n",
        "            policy_opt[y][x] = 'T'\n",
        "            continue\n",
        "        if (x, y) in walls:\n",
        "            policy_opt[y][x] = 'WALL'\n",
        "            continue\n",
        "\n",
        "        best_action = None\n",
        "        best_value = float('-inf')\n",
        "        for action in actions:\n",
        "            exp_util = 0\n",
        "            for (prob, nx, ny) in get_next_states(x, y, action):\n",
        "                exp_util += prob * U[ny][nx]\n",
        "            if exp_util > best_value:\n",
        "                best_value = exp_util\n",
        "                best_action = action\n",
        "\n",
        "        policy_opt[y][x] = best_action\n",
        "\n",
        "# Print nicely\n",
        "print(\"\\nOptimal Policy (π*):\")\n",
        "for row in reversed(policy_opt):  # reverse so Y=3 is top\n",
        "    print(row)\n"
      ],
      "metadata": {
        "id": "z1kZm2d1ODC0",
        "outputId": "77c62347-d32b-4859-83e4-8e34e507ca97",
        "colab": {
          "base_uri": "https://localhost:8080/"
        }
      },
      "execution_count": 138,
      "outputs": [
        {
          "output_type": "stream",
          "name": "stdout",
          "text": [
            "\n",
            "Optimal Policy (π*):\n",
            "['up', 'right', 'up', 'left']\n",
            "['up', 'WALL', 'up', 'T']\n",
            "['right', 'right', 'right', 'T']\n"
          ]
        }
      ]
    }
  ]
}